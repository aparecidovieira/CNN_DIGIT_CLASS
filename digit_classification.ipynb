{
 "cells": [
  {
   "cell_type": "markdown",
   "metadata": {
    "collapsed": true
   },
   "source": [
    "# Convolutional Neural Network MNIST"
   ]
  },
  {
   "cell_type": "code",
   "execution_count": 1,
   "metadata": {},
   "outputs": [
    {
     "name": "stderr",
     "output_type": "stream",
     "text": [
      "/home/cesar/anaconda3/envs/tensorflow/lib/python3.6/site-packages/h5py/__init__.py:36: FutureWarning: Conversion of the second argument of issubdtype from `float` to `np.floating` is deprecated. In future, it will be treated as `np.float64 == np.dtype(float).type`.\n",
      "  from ._conv import register_converters as _register_converters\n"
     ]
    }
   ],
   "source": [
    "import tensorflow as tf\n",
    "import numpy as np\n",
    "import pandas as pd\n",
    "import matplotlib.pyplot as plt\n",
    "import warnings\n",
    "import os\n",
    "os.environ['CUDA_VISIBLES_DEVICES'] ='1'"
   ]
  },
  {
   "cell_type": "markdown",
   "metadata": {},
   "source": [
    "# Checking if GPU is detected"
   ]
  },
  {
   "cell_type": "code",
   "execution_count": 2,
   "metadata": {},
   "outputs": [
    {
     "name": "stdout",
     "output_type": "stream",
     "text": [
      "GPU is on /device:GPU:0\n"
     ]
    }
   ],
   "source": [
    "if tf.test.gpu_device_name():\n",
    "    print('GPU is on {}'.format(tf.test.gpu_device_name()))\n",
    "else:\n",
    "    print('No GPU detected')"
   ]
  },
  {
   "cell_type": "code",
   "execution_count": 3,
   "metadata": {
    "collapsed": true
   },
   "outputs": [],
   "source": [
    "from tensorflow.examples.tutorials.mnist import input_data"
   ]
  },
  {
   "cell_type": "markdown",
   "metadata": {},
   "source": [
    "# Dowloading and Extracting Datasets"
   ]
  },
  {
   "cell_type": "code",
   "execution_count": 4,
   "metadata": {},
   "outputs": [
    {
     "name": "stdout",
     "output_type": "stream",
     "text": [
      "Extracting MNIST_data/train-images-idx3-ubyte.gz\n",
      "Extracting MNIST_data/train-labels-idx1-ubyte.gz\n",
      "Extracting MNIST_data/t10k-images-idx3-ubyte.gz\n",
      "Extracting MNIST_data/t10k-labels-idx1-ubyte.gz\n"
     ]
    }
   ],
   "source": [
    "mnist = input_data.read_data_sets('MNIST_data/', one_hot=True)"
   ]
  },
  {
   "cell_type": "code",
   "execution_count": 5,
   "metadata": {},
   "outputs": [
    {
     "name": "stdout",
     "output_type": "stream",
     "text": [
      "(55000, 784)\n",
      "(10000, 10)\n"
     ]
    }
   ],
   "source": [
    "print (mnist.train.images.shape)\n",
    "print (mnist.test.labels.shape)\n",
    "tf.reset_default_graph()\n",
    "sess = tf.Session()"
   ]
  },
  {
   "cell_type": "code",
   "execution_count": 89,
   "metadata": {
    "collapsed": true
   },
   "outputs": [],
   "source": [
    "inputs = mnist.train.images.shape[1]\n",
    "labels = mnist.test.labels.shape[1]"
   ]
  },
  {
   "cell_type": "code",
   "execution_count": null,
   "metadata": {
    "collapsed": true
   },
   "outputs": [],
   "source": []
  },
  {
   "cell_type": "markdown",
   "metadata": {},
   "source": [
    "# TensorFlow Model"
   ]
  },
  {
   "cell_type": "code",
   "execution_count": 6,
   "metadata": {},
   "outputs": [
    {
     "name": "stdout",
     "output_type": "stream",
     "text": [
      "Tensor(\"Placeholder:0\", shape=(?, 784), dtype=float32) Tensor(\"Placeholder_1:0\", shape=(?, 10), dtype=float32)\n"
     ]
    }
   ],
   "source": [
    "learning_rate = 1e-4\n",
    "epochs = 10000\n",
    "\n",
    "n_hidden = 256\n",
    "\n",
    "\n",
    "x = tf.placeholder(dtype=tf.float32, shape=(None, inputs))\n",
    "y = tf.placeholder(dtype=tf.float32, shape=(None, labels))\n",
    "\n",
    "print (x, y)"
   ]
  },
  {
   "cell_type": "code",
   "execution_count": 7,
   "metadata": {
    "collapsed": true
   },
   "outputs": [],
   "source": [
    "def bias(shape):\n",
    "    values = tf.constant(0.1, shape=shape)\n",
    "    return tf.Variable(values)\n",
    "def filters(shape):\n",
    "    filt = tf.truncated_normal(shape, stddev=0.1)\n",
    "    return tf.Variable(filt)\n",
    "def fullyconnected(x, inp, out):\n",
    "    \n",
    "    with tf.name_scope(\"w\"):\n",
    "        w = tf.get_variable('w',shape=[inp, out], dtype=tf.float32)\n",
    "    with tf.name_scope(\"x\"):     \n",
    "        b = tf.get_variable('x',shape=[out], dtype=tf.float32)\n",
    "    fully = tf.nn.xw_plus_b(x, w, b)\n",
    "    return tf.nn.relu(fully)\n",
    "    \n",
    "    "
   ]
  },
  {
   "cell_type": "markdown",
   "metadata": {},
   "source": [
    "# Convolutional and Fully Connected Layers"
   ]
  },
  {
   "cell_type": "code",
   "execution_count": 8,
   "metadata": {},
   "outputs": [
    {
     "name": "stdout",
     "output_type": "stream",
     "text": [
      "(?, 3136) (3136, 1024) (1024,)\n"
     ]
    }
   ],
   "source": [
    "\n",
    "#first layer\n",
    "def conv_layers(x):\n",
    "    x_ = tf.reshape(x, [-1, 28, 28, 1])\n",
    "    filter1 = filters([5,5,1, 32])\n",
    "    b1 = bias([32])\n",
    "    first_hidden = tf.nn.conv2d(x_, filter1, strides=[1,1,1,1], padding='SAME') + b1\n",
    "    convolution_one = tf.nn.relu(first_hidden)\n",
    "    conv_one = tf.nn.max_pool(convolution_one, ksize=[1,2,2,1], strides=[1,2,2,1], padding='SAME')\n",
    "    \n",
    "    #second layer\n",
    "    filter2 = filters([5,5,32, 64])\n",
    "    b2 = bias([64])\n",
    "    sec_hidden = tf.nn.conv2d(conv_one, filter2, strides=[1,1,1,1], padding='SAME') + b2\n",
    "    convolution_two = tf.nn.relu(sec_hidden)\n",
    "    return tf.nn.max_pool(convolution_two, ksize=[1,2,2,1], strides=[1,2,2,1], padding='SAME')        \n",
    "\n",
    "conv_two = conv_layers(x)\n",
    "    #third layer \n",
    "flatten = tf.reshape(conv_two, [-1, 7*7*64])\n",
    "w1 = filters([7*7*64, 1024])\n",
    "bias1 = bias([1024])\n",
    "print (flatten.shape, w1.shape, bias1.shape)\n",
    "fully1 = tf.nn.xw_plus_b(flatten, w1, bias1)\n",
    "#fc1 = fullyconnected(flatten, 7*7*64, 1024)\n",
    "fc1 = tf.nn.relu(fully1)\n",
    "    \n",
    "#fourth layer\n",
    "keep_prob = tf.placeholder(dtype=tf.float32)\n",
    "fc1_dropout = tf.nn.dropout(fc1, keep_prob)\n",
    "w2 = filters([1024, 10])\n",
    "bias2 = bias([10])\n",
    "fully2 = tf.nn.xw_plus_b(fc1_dropout, w2, bias2)\n",
    "fc2 = tf.nn.relu(fully2)\n",
    "    \n",
    "#fc2 = fullyconnected(fc1_dropout, 1024, 10)\n",
    "prediction_softmax = tf.nn.softmax(fc2)\n",
    "    \n",
    "    \n",
    "    \n",
    "    \n",
    "    "
   ]
  },
  {
   "cell_type": "markdown",
   "metadata": {},
   "source": [
    "# Cross Entropy and Optmizer"
   ]
  },
  {
   "cell_type": "code",
   "execution_count": 9,
   "metadata": {
    "collapsed": true
   },
   "outputs": [],
   "source": [
    "cross_entropy = -tf.reduce_sum(y*tf.log(prediction_softmax))\n",
    "train_step = tf.train.AdamOptimizer(learning_rate).minimize(cross_entropy)"
   ]
  },
  {
   "cell_type": "code",
   "execution_count": 10,
   "metadata": {
    "collapsed": true
   },
   "outputs": [],
   "source": [
    "correct_pred = tf.equal(tf.argmax(prediction_softmax, 1), tf.argmax(y, 1))\n",
    "accuracy = tf.reduce_mean(tf.cast(correct_pred, dtype=tf.float32)) "
   ]
  },
  {
   "cell_type": "markdown",
   "metadata": {},
   "source": [
    "# Initiating Session"
   ]
  },
  {
   "cell_type": "code",
   "execution_count": 13,
   "metadata": {},
   "outputs": [],
   "source": [
    "init = tf.global_variables_initializer()\n",
    "sess.run(init)"
   ]
  },
  {
   "cell_type": "markdown",
   "metadata": {},
   "source": [
    "# Training Model"
   ]
  },
  {
   "cell_type": "code",
   "execution_count": 19,
   "metadata": {},
   "outputs": [
    {
     "name": "stdout",
     "output_type": "stream",
     "text": [
      "Epoch 0 has training accuracy : 100.000000\n",
      "Epoch 1000 has training accuracy : 100.000000\n",
      "Epoch 2000 has training accuracy : 100.000000\n",
      "Epoch 3000 has training accuracy : 100.000000\n",
      "Epoch 4000 has training accuracy : 100.000000\n",
      "Epoch 5000 has training accuracy : 100.000000\n",
      "Epoch 6000 has training accuracy : 100.000000\n",
      "Epoch 7000 has training accuracy : 100.000000\n",
      "Epoch 8000 has training accuracy : 100.000000\n",
      "Epoch 9000 has training accuracy : 100.000000\n",
      "Epoch 10000 has training accuracy : 100.000000\n",
      "Test Accuracy 0.993200\n"
     ]
    }
   ],
   "source": [
    "epochs = 10001\n",
    "import time as t\n",
    "start = t.time\n",
    "try:    \n",
    "    for epoch in range(epochs):\n",
    "        batch = mnist.train.next_batch(100)\n",
    "    \n",
    "        train_acc, _, _, = sess.run([accuracy,cross_entropy,train_step], feed_dict={x: batch[0],\n",
    "                                             y: batch[1],\n",
    "                                             keep_prob: 0.50})\n",
    "        if epoch % 1000 == 0:\n",
    "            print(\"Epoch %d has training accuracy : %f\"% (epoch, train_acc*100))\n",
    "except KeyboardInterrupt:\n",
    "    print('Training Interrupted')\n",
    "\n",
    "\n",
    "test_acc, _, predictions, = sess.run([accuracy,cross_entropy,prediction_softmax], feed_dict={x: mnist.test.images,\n",
    "                                             y: mnist.test.labels,\n",
    "                                             keep_prob: 1.00})        \n",
    "\n",
    "print(\"Test Accuracy %f\"%(test_acc))"
   ]
  },
  {
   "cell_type": "code",
   "execution_count": 24,
   "metadata": {},
   "outputs": [
    {
     "data": {
      "text/plain": [
       "(10000,)"
      ]
     },
     "execution_count": 24,
     "metadata": {},
     "output_type": "execute_result"
    }
   ],
   "source": [
    "pred = np.argmax(predictions, axis=1)\n",
    "pred.shape"
   ]
  },
  {
   "cell_type": "code",
   "execution_count": 74,
   "metadata": {
    "collapsed": true
   },
   "outputs": [],
   "source": [
    "test_data=mnist.test.labels"
   ]
  },
  {
   "cell_type": "code",
   "execution_count": 29,
   "metadata": {},
   "outputs": [
    {
     "data": {
      "text/plain": [
       "array([7, 2, 1, ..., 4, 5, 6])"
      ]
     },
     "execution_count": 29,
     "metadata": {},
     "output_type": "execute_result"
    }
   ],
   "source": [
    "test_labels = np.argmax(mnist.test.labels, axis=1)\n",
    "test_labels"
   ]
  },
  {
   "cell_type": "code",
   "execution_count": 41,
   "metadata": {},
   "outputs": [
    {
     "data": {
      "text/plain": [
       "array([[0., 0., 0., ..., 0., 0., 0.],\n",
       "       [0., 0., 0., ..., 0., 0., 0.],\n",
       "       [0., 0., 0., ..., 0., 0., 0.],\n",
       "       ...,\n",
       "       [0., 0., 0., ..., 0., 0., 0.],\n",
       "       [0., 0., 0., ..., 0., 0., 0.],\n",
       "       [0., 0., 0., ..., 0., 0., 0.]], dtype=float32)"
      ]
     },
     "execution_count": 41,
     "metadata": {},
     "output_type": "execute_result"
    }
   ],
   "source": [
    "mnist.test.images"
   ]
  },
  {
   "cell_type": "code",
   "execution_count": 64,
   "metadata": {},
   "outputs": [],
   "source": [
    "def display_digits(data):\n",
    "    f, axs = plt.subplots(1, len(data), figsize=(23, 23))\n",
    "    for i, index in enumerate(data):\n",
    "        image = mnist.test.images[index].reshape([28, 28])        \n",
    "        axs[i].set_title('Pred:%d True:%d' % (test_labels[index], test_labels[index]))\n",
    "        axs[i].imshow(image, cmap=plt.get_cmap('gray_r'))\n",
    "        axs[i].set_axis_off()\n",
    "    plt.show()\n",
    "    "
   ]
  },
  {
   "cell_type": "code",
   "execution_count": 68,
   "metadata": {},
   "outputs": [
    {
     "data": {
      "image/png": "[encoded data removed]",
      "text/plain": [
       "<matplotlib.figure.Figure at 0x7f116a3d66a0>"
      ]
     },
     "metadata": {},
     "output_type": "display_data"
    }
   ],
   "source": [
    "pred_ = pred[:10]\n",
    "pred_\n",
    "display_digits(pred_)"
   ]
  },
  {
   "cell_type": "markdown",
   "metadata": {},
   "source": [
    "# Confusion Matrix"
   ]
  },
  {
   "cell_type": "code",
   "execution_count": 85,
   "metadata": {},
   "outputs": [],
   "source": [
    "\n",
    "import seaborn as sb\n",
    "from sklearn import metrics\n",
    "labels = ['0','1', '2', '3', '4', '5', '6', '7', '8', '9']"
   ]
  },
  {
   "cell_type": "code",
   "execution_count": 86,
   "metadata": {},
   "outputs": [],
   "source": [
    "confusion_matrix = metrics.confusion_matrix(test_labels, pred)"
   ]
  },
  {
   "cell_type": "code",
   "execution_count": 88,
   "metadata": {},
   "outputs": [
    {
     "data": {
      "image/png": "[encoded data removed]",
      "text/plain": [
       "<matplotlib.figure.Figure at 0x7f116a23d550>"
      ]
     },
     "metadata": {},
     "output_type": "display_data"
    }
   ],
   "source": [
    "plt.figure(figsize=(15, 12))\n",
    "sb.heatmap(confusion_matrix, xticklabels=labels, yticklabels=labels, annot=True, fmt=\"d\")\n",
    "plt.title(\"Confusion matrix\")\n",
    "plt.ylabel(\"True label\")\n",
    "plt.xlabel(\"Predicted label\")\n",
    "plt.show()"
   ]
  },
  {
   "cell_type": "code",
   "execution_count": null,
   "metadata": {
    "collapsed": true
   },
   "outputs": [],
   "source": []
  },
  {
   "cell_type": "code",
   "execution_count": null,
   "metadata": {
    "collapsed": true
   },
   "outputs": [],
   "source": []
  },
  {
   "cell_type": "code",
   "execution_count": null,
   "metadata": {
    "collapsed": true
   },
   "outputs": [],
   "source": []
  }
 ],
 "metadata": {
  "kernelspec": {
   "display_name": "Python 3",
   "language": "python",
   "name": "python3"
  },
  "language_info": {
   "codemirror_mode": {
    "name": "ipython",
    "version": 3
   },
   "file_extension": ".py",
   "mimetype": "text/x-python",
   "name": "python",
   "nbconvert_exporter": "python",
   "pygments_lexer": "ipython3",
   "version": "3.6.3"
  }
 },
 "nbformat": 4,
 "nbformat_minor": 2
}
